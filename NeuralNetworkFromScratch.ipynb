{
 "cells": [
  {
   "cell_type": "code",
   "execution_count": 2,
   "metadata": {},
   "outputs": [],
   "source": [
    "import numpy as np"
   ]
  },
  {
   "cell_type": "code",
   "execution_count": 3,
   "metadata": {},
   "outputs": [],
   "source": [
    "X = np.array([[0,0],[0,1],[1,0],[1,1]])\n",
    "Y = np.array([[0],[0],[0],[1]])"
   ]
  },
  {
   "cell_type": "code",
   "execution_count": 4,
   "metadata": {},
   "outputs": [],
   "source": [
    "def sig(z):\n",
    "    return 1/(1+np.exp(-z))"
   ]
  },
  {
   "cell_type": "code",
   "execution_count": 5,
   "metadata": {},
   "outputs": [],
   "source": [
    "def derivativeSig(z):\n",
    "    return sig(z)*(1-sig(z))"
   ]
  },
  {
   "cell_type": "code",
   "execution_count": 6,
   "metadata": {},
   "outputs": [
    {
     "data": {
      "text/plain": [
       "(array([[-0.37158832],\n",
       "        [-0.29244312]]), array([0.20888989]))"
      ]
     },
     "execution_count": 6,
     "metadata": {},
     "output_type": "execute_result"
    }
   ],
   "source": [
    "weights = 2*np.random.random((2,1)) - 1\n",
    "bias = 2*np.random.random((1)) - 1\n",
    "learning_rate = 0.1\n",
    "weights,bias"
   ]
  },
  {
   "cell_type": "code",
   "execution_count": 11,
   "metadata": {},
   "outputs": [
    {
     "name": "stdout",
     "output_type": "stream",
     "text": [
      "[[6.26995954]\n",
      " [6.26995954]]\n",
      "[-9.49476471]\n",
      "[[7.52390672e-05]\n",
      " [3.82428569e-02]\n",
      " [3.82428569e-02]\n",
      " [9.54572865e-01]]\n"
     ]
    }
   ],
   "source": [
    "for iter in range(10000):\n",
    "    output0 = X\n",
    "    output = sig(np.dot(output0,weights) + bias)\n",
    "\n",
    "    first_term = output -Y\n",
    "    input_from_last_layer = np.dot(output0,weights) + bias\n",
    "    second_term = derivativeSig(input_from_last_layer)\n",
    "    first_two = first_term*second_term\n",
    "    first_two.shape\n",
    "\n",
    "    changes_weight = np.array([[0.0],[0.0]])\n",
    "\n",
    "    changes_weight = np.dot(output0.T,first_two)\n",
    "    weights = weights - learning_rate*changes_weight\n",
    "\n",
    "    bias_change = np.sum(first_two)\n",
    "    bias = bias - learning_rate*bias_change\n",
    "\n",
    "output = sig(np.dot(X,weights) + bias)\n",
    "print(weights)\n",
    "print(bias)\n",
    "print(output)"
   ]
  }
 ],
 "metadata": {
  "kernelspec": {
   "display_name": "Python 3",
   "language": "python",
   "name": "python3"
  },
  "language_info": {
   "codemirror_mode": {
    "name": "ipython",
    "version": 3
   },
   "file_extension": ".py",
   "mimetype": "text/x-python",
   "name": "python",
   "nbconvert_exporter": "python",
   "pygments_lexer": "ipython3",
   "version": "3.6.6"
  }
 },
 "nbformat": 4,
 "nbformat_minor": 2
}
