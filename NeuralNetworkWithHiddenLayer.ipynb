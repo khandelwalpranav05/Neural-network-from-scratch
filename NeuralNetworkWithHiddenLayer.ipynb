{
 "cells": [
  {
   "cell_type": "code",
   "execution_count": 1,
   "metadata": {},
   "outputs": [],
   "source": [
    "import numpy as np"
   ]
  },
  {
   "cell_type": "code",
   "execution_count": 2,
   "metadata": {},
   "outputs": [
    {
     "data": {
      "text/plain": [
       "((4, 2), (4, 1))"
      ]
     },
     "execution_count": 2,
     "metadata": {},
     "output_type": "execute_result"
    }
   ],
   "source": [
    "X = X = np.array([[0,0],[0,1],[1,0],[1,1]])\n",
    "Y = np.array([[0],[1],[1],[0]])\n",
    "X.shape,Y.shape"
   ]
  },
  {
   "cell_type": "code",
   "execution_count": 3,
   "metadata": {},
   "outputs": [],
   "source": [
    "def sig(z):\n",
    "    return 1/(1+np.exp(-z))"
   ]
  },
  {
   "cell_type": "code",
   "execution_count": 4,
   "metadata": {},
   "outputs": [],
   "source": [
    "def derivativeSig(z):\n",
    "    return sig(z)*(1-sig(z))"
   ]
  },
  {
   "cell_type": "code",
   "execution_count": 5,
   "metadata": {},
   "outputs": [],
   "source": [
    "weight_hidden = 2*np.random.random((2,2)) - 1\n",
    "bias_hidden = 2*np.random.random((1,2)) - 1\n",
    "weight_output = 2*np.random.random((2,1)) - 1\n",
    "bias_output = 2*np.random.random((1)) - 1\n",
    "learning_rate = 0.1"
   ]
  },
  {
   "cell_type": "code",
   "execution_count": 11,
   "metadata": {},
   "outputs": [
    {
     "name": "stdout",
     "output_type": "stream",
     "text": [
      "[[0.06806915]\n",
      " [0.92125627]\n",
      " [0.93891566]\n",
      " [0.05959569]]\n",
      "\n",
      "\n",
      "[[ 4.79413613  5.19521249]\n",
      " [-4.58865205 -5.30882058]]\n",
      "\n",
      "\n",
      "[[ 2.28183715 -2.92412262]]\n",
      "\n",
      "\n",
      "[[-6.64728724]\n",
      " [ 6.96612766]]\n",
      "\n",
      "\n",
      "[[3.05966798]]\n",
      "\n",
      "\n"
     ]
    }
   ],
   "source": [
    "for iter in range(10000):\n",
    "    output0 = X\n",
    "\n",
    "    inputHidden = np.dot(output0,weight_hidden) + bias_hidden\n",
    "    outputHidden = sig(inputHidden)\n",
    "    inputForOutputLayer = np.dot(outputHidden,weight_output) + bias_output\n",
    "    output = sig(inputForOutputLayer)\n",
    "\n",
    "    first_term_output_layer = output - Y\n",
    "    second_term_output_layer= derivativeSig(inputForOutputLayer)\n",
    "    first_two_output_layer = first_term_output_layer*second_term_output_layer\n",
    "\n",
    "    first_term_hidden_layer = np.dot(first_two_output_layer,weight_output.T)\n",
    "    second_term_hidden_layer = derivativeSig(inputHidden)\n",
    "    first_two_hidden_layer = first_term_hidden_layer*second_term_hidden_layer\n",
    "\n",
    "    change_weight_output = np.dot(outputHidden.T,first_two_output_layer)\n",
    "    change_bias_output = np.sum(first_two_output_layer,axis=0,keepdims=True)\n",
    "\n",
    "    change_weight_hidden = np.dot(output0.T,first_two_hidden_layer)\n",
    "    change_bias_hidden = np.sum(first_two_hidden_layer,axis=0,keepdims=True)\n",
    "\n",
    "    weight_output = weight_output - learning_rate*change_weight_output\n",
    "    bias_output = bias_output - learning_rate*change_bias_output\n",
    "\n",
    "    weight_hidden = weight_hidden - learning_rate*change_weight_hidden\n",
    "    bias_hidden = bias_hidden - learning_rate*change_bias_hidden\n",
    "    \n",
    "output0 = X\n",
    "\n",
    "inputHidden = np.dot(output0,weight_hidden) + bias_hidden\n",
    "outputHidden = sig(inputHidden)\n",
    "inputForOutputLayer = np.dot(outputHidden,weight_output) + bias_output\n",
    "output = sig(inputForOutputLayer)\n",
    "\n",
    "print(output)\n",
    "print('\\n')\n",
    "print(weight_hidden)\n",
    "print('\\n')\n",
    "print(bias_hidden)\n",
    "print('\\n')\n",
    "print(weight_output)\n",
    "print('\\n')\n",
    "print(bias_output)\n",
    "print('\\n')"
   ]
  },
  {
   "cell_type": "code",
   "execution_count": null,
   "metadata": {},
   "outputs": [],
   "source": []
  }
 ],
 "metadata": {
  "kernelspec": {
   "display_name": "Python 3",
   "language": "python",
   "name": "python3"
  },
  "language_info": {
   "codemirror_mode": {
    "name": "ipython",
    "version": 3
   },
   "file_extension": ".py",
   "mimetype": "text/x-python",
   "name": "python",
   "nbconvert_exporter": "python",
   "pygments_lexer": "ipython3",
   "version": "3.6.6"
  }
 },
 "nbformat": 4,
 "nbformat_minor": 2
}
